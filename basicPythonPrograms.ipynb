{
 "cells": [
  {
   "cell_type": "markdown",
   "metadata": {},
   "source": [
    "# Basic Python Programs"
   ]
  },
  {
   "cell_type": "markdown",
   "metadata": {},
   "source": [
    "## Fibonacci Series"
   ]
  },
  {
   "cell_type": "code",
   "execution_count": 4,
   "metadata": {},
   "outputs": [],
   "source": [
    "def fib():\n",
    "    num=int(input('enter how many number you want to be displayed!\\n'))\n",
    "    a=0\n",
    "    b=1\n",
    "    print(a)\n",
    "    print(b)\n",
    "    for i in range(num-2):\n",
    "        c=a+b\n",
    "        print(c)\n",
    "        a=b\n",
    "        b=c"
   ]
  },
  {
   "cell_type": "code",
   "execution_count": 5,
   "metadata": {},
   "outputs": [
    {
     "name": "stdout",
     "output_type": "stream",
     "text": [
      "enter how many number you want to be displayed!\n",
      "7\n",
      "0\n",
      "1\n",
      "1\n",
      "2\n",
      "3\n",
      "5\n",
      "8\n"
     ]
    }
   ],
   "source": [
    "fib()"
   ]
  },
  {
   "cell_type": "markdown",
   "metadata": {},
   "source": [
    "## Prime Number"
   ]
  },
  {
   "cell_type": "code",
   "execution_count": 10,
   "metadata": {},
   "outputs": [],
   "source": [
    "def prime():\n",
    "    num=int(input('please enter the number!\\n'))\n",
    "    flag=0\n",
    "    if(num==0 or num==1):\n",
    "        print('number is not prime')\n",
    "        return\n",
    "    if(num==2):\n",
    "        print('number is prime')\n",
    "        return\n",
    "    for i in range(2,((num//2)+1)):\n",
    "        if(num%i==0):\n",
    "            flag=1\n",
    "    if(flag==1):\n",
    "        print('number is not prime')\n",
    "    else:\n",
    "        print('number is prime')"
   ]
  },
  {
   "cell_type": "code",
   "execution_count": 11,
   "metadata": {},
   "outputs": [
    {
     "name": "stdout",
     "output_type": "stream",
     "text": [
      "please enter the number!\n",
      "0\n",
      "number is not prime\n"
     ]
    }
   ],
   "source": [
    "prime()"
   ]
  },
  {
   "cell_type": "markdown",
   "metadata": {},
   "source": [
    "## Palindrome"
   ]
  },
  {
   "cell_type": "code",
   "execution_count": 24,
   "metadata": {},
   "outputs": [],
   "source": [
    "def pal():\n",
    "    num=input('please enter the number!\\n')\n",
    "    numList=list(num)\n",
    "    print(numList)\n",
    "    newNumList=[]\n",
    "    for i in range(len(numList)):\n",
    "        newNumList.append(numList[len(numList)-1-i])\n",
    "    print(numList)\n",
    "    print(newNumList)\n",
    "    num=int(''.join(numList))\n",
    "    num2=int(''.join(newNumList))\n",
    "    if(num==num2):\n",
    "        print('palindrome')\n",
    "    else:\n",
    "        print('not a palindrome')"
   ]
  },
  {
   "cell_type": "code",
   "execution_count": 25,
   "metadata": {},
   "outputs": [
    {
     "name": "stdout",
     "output_type": "stream",
     "text": [
      "please enter the number!\n",
      "1234321\n",
      "['1', '2', '3', '4', '3', '2', '1']\n",
      "['1', '2', '3', '4', '3', '2', '1']\n",
      "['1', '2', '3', '4', '3', '2', '1']\n",
      "palindrome\n"
     ]
    }
   ],
   "source": [
    "pal()"
   ]
  },
  {
   "cell_type": "markdown",
   "metadata": {},
   "source": [
    "## Palindrome 2nd way"
   ]
  },
  {
   "cell_type": "code",
   "execution_count": 35,
   "metadata": {},
   "outputs": [],
   "source": [
    "def pal():\n",
    "    num=int(input('please enter the number!\\n'))\n",
    "    sum=0\n",
    "    temp=num\n",
    "    while(num>0):\n",
    "        r=num%10\n",
    "        sum=(sum*10)+r\n",
    "        num=num//10\n",
    "    if(temp==sum):\n",
    "        print('palindrome')\n",
    "    else:\n",
    "        print('not palindrome')"
   ]
  },
  {
   "cell_type": "code",
   "execution_count": 37,
   "metadata": {},
   "outputs": [
    {
     "name": "stdout",
     "output_type": "stream",
     "text": [
      "please enter the number!\n",
      "456\n",
      "not palindrome\n"
     ]
    }
   ],
   "source": [
    "pal()"
   ]
  },
  {
   "cell_type": "markdown",
   "metadata": {},
   "source": [
    "## Factorial"
   ]
  },
  {
   "cell_type": "code",
   "execution_count": 47,
   "metadata": {},
   "outputs": [],
   "source": [
    "def fact():\n",
    "    num=int(input('please enter the number!\\n'))\n",
    "    factorial=calc(num)\n",
    "    print(factorial)\n",
    "def calc(num):\n",
    "    while(num!=1):\n",
    "        return num*calc(num-1)\n",
    "    return 1"
   ]
  },
  {
   "cell_type": "code",
   "execution_count": 48,
   "metadata": {},
   "outputs": [
    {
     "name": "stdout",
     "output_type": "stream",
     "text": [
      "please enter the number!\n",
      "7\n",
      "5040\n"
     ]
    }
   ],
   "source": [
    "fact()"
   ]
  },
  {
   "cell_type": "markdown",
   "metadata": {},
   "source": [
    "## Factorial 2nd method"
   ]
  },
  {
   "cell_type": "code",
   "execution_count": 50,
   "metadata": {},
   "outputs": [],
   "source": [
    "def fact():\n",
    "    num=int(input('please enter the number!\\n'))\n",
    "    fact=1\n",
    "    for i in range(1,num+1):\n",
    "        fact=fact*i\n",
    "    print(fact)"
   ]
  },
  {
   "cell_type": "code",
   "execution_count": 51,
   "metadata": {},
   "outputs": [
    {
     "name": "stdout",
     "output_type": "stream",
     "text": [
      "please enter the number!\n",
      "7\n",
      "5040\n"
     ]
    }
   ],
   "source": [
    "fact()"
   ]
  },
  {
   "cell_type": "markdown",
   "metadata": {},
   "source": [
    "## Armstrong number"
   ]
  },
  {
   "cell_type": "code",
   "execution_count": 68,
   "metadata": {},
   "outputs": [],
   "source": [
    "def arm():\n",
    "    num=int(input('please enter the number!\\n'))\n",
    "    numDigits=len(str(num))\n",
    "    sum=0\n",
    "    temp=num\n",
    "    while(num>0):\n",
    "        r=num%10\n",
    "        sum=sum+(r**numDigits)\n",
    "        num=num//10\n",
    "    if(sum==temp):\n",
    "        print('armstrong')\n",
    "    else:\n",
    "        print('not armstrong')"
   ]
  },
  {
   "cell_type": "code",
   "execution_count": 69,
   "metadata": {},
   "outputs": [
    {
     "name": "stdout",
     "output_type": "stream",
     "text": [
      "please enter the number!\n",
      "1634\n",
      "armstrong\n"
     ]
    }
   ],
   "source": [
    "arm()"
   ]
  },
  {
   "cell_type": "markdown",
   "metadata": {},
   "source": [
    "## Sum of digits"
   ]
  },
  {
   "cell_type": "code",
   "execution_count": 71,
   "metadata": {},
   "outputs": [],
   "source": [
    "def sod(num):\n",
    "    sum=0\n",
    "    while(num>0):\n",
    "        r=num%10\n",
    "        sum=sum+r\n",
    "        num=num//10\n",
    "    print(sum)"
   ]
  },
  {
   "cell_type": "code",
   "execution_count": 73,
   "metadata": {},
   "outputs": [
    {
     "name": "stdout",
     "output_type": "stream",
     "text": [
      "21\n"
     ]
    }
   ],
   "source": [
    "sod(2649)"
   ]
  },
  {
   "cell_type": "markdown",
   "metadata": {},
   "source": [
    "## Reverse a number"
   ]
  },
  {
   "cell_type": "code",
   "execution_count": 81,
   "metadata": {},
   "outputs": [],
   "source": [
    "def numRev(num):\n",
    "    sum=''\n",
    "    while(num>0):\n",
    "        r=num%10\n",
    "        sum=sum+str(r)\n",
    "        num=num//10\n",
    "    print(sum)"
   ]
  },
  {
   "cell_type": "code",
   "execution_count": 83,
   "metadata": {},
   "outputs": [
    {
     "name": "stdout",
     "output_type": "stream",
     "text": [
      "876602\n"
     ]
    }
   ],
   "source": [
    "numRev(206678)"
   ]
  },
  {
   "cell_type": "markdown",
   "metadata": {},
   "source": [
    "## Reverse a String (my own way)"
   ]
  },
  {
   "cell_type": "code",
   "execution_count": 106,
   "metadata": {},
   "outputs": [],
   "source": [
    "def strRev(st):\n",
    "    newStrList=[]\n",
    "    for i in range(len(st)-1,-1,-1):\n",
    "        newStrList.append(st[i])\n",
    "    newStr=''.join(newStrList)\n",
    "    print(newStr)"
   ]
  },
  {
   "cell_type": "code",
   "execution_count": 109,
   "metadata": {},
   "outputs": [
    {
     "name": "stdout",
     "output_type": "stream",
     "text": [
      "unahb\n"
     ]
    }
   ],
   "source": [
    "strRev('bhanu')"
   ]
  },
  {
   "cell_type": "markdown",
   "metadata": {},
   "source": [
    "## Reverse a string method 2"
   ]
  },
  {
   "cell_type": "code",
   "execution_count": 111,
   "metadata": {},
   "outputs": [],
   "source": [
    "def strRev(st):\n",
    "    newStr=''\n",
    "    for i in st:\n",
    "        newStr=i+newStr\n",
    "    print(newStr)"
   ]
  },
  {
   "cell_type": "code",
   "execution_count": 113,
   "metadata": {},
   "outputs": [
    {
     "name": "stdout",
     "output_type": "stream",
     "text": [
      "dasarp\n"
     ]
    }
   ],
   "source": [
    "strRev('prasad')"
   ]
  },
  {
   "cell_type": "markdown",
   "metadata": {},
   "source": [
    "## Swap two numbers without third variable"
   ]
  },
  {
   "cell_type": "code",
   "execution_count": 123,
   "metadata": {},
   "outputs": [],
   "source": [
    "def swap(a,b):\n",
    "    print('before swapping: a={},b={}'.format(a,b))\n",
    "    a=a+b\n",
    "    b=a-b\n",
    "    a=a-b\n",
    "    print('after swapping: a={},b={}'.format(a,b))"
   ]
  },
  {
   "cell_type": "code",
   "execution_count": 124,
   "metadata": {},
   "outputs": [
    {
     "name": "stdout",
     "output_type": "stream",
     "text": [
      "before swapping: a=10,b=20\n",
      "after swapping: a=20,b=10\n"
     ]
    }
   ],
   "source": [
    "swap(10,20)"
   ]
  },
  {
   "cell_type": "code",
   "execution_count": 125,
   "metadata": {},
   "outputs": [],
   "source": [
    "#Swap two numbers without third variable method 2"
   ]
  },
  {
   "cell_type": "code",
   "execution_count": null,
   "metadata": {},
   "outputs": [],
   "source": [
    "def swap(a,b):\n",
    "    print('before swapping: a={},b={}'.format(a,b))\n",
    "    a=a*b\n",
    "    b=a//b\n",
    "    a=a//b\n",
    "    print('after swapping: a={},b={}'.format(a,b))"
   ]
  },
  {
   "cell_type": "code",
   "execution_count": null,
   "metadata": {},
   "outputs": [],
   "source": [
    "swap(3,4)"
   ]
  },
  {
   "cell_type": "markdown",
   "metadata": {},
   "source": [
    "## Matrix multiplication"
   ]
  },
  {
   "cell_type": "code",
   "execution_count": 23,
   "metadata": {},
   "outputs": [],
   "source": [
    "def matMul():\n",
    "    row1=int(input('enter the number of rows of first array!\\n'))\n",
    "    column1=int(input('enter the number of columns of first array!\\n'))\n",
    "    first=[[1 for j in range(column1)] for i in range(row1)]\n",
    "    row2=int(input('enter the number of rows of second array!\\n'))\n",
    "    column2=int(input('enter the number of columns of second array\\n'))\n",
    "    second=[[1 for j in range(column2)] for i in range(row2)]\n",
    "    final=[[1 for j in range(row1)] for i in range(column2)]\n",
    "    print('enter the elements of first matrix!\\n')\n",
    "    for i in range(row1):\n",
    "        for j in range(column1):\n",
    "            first[i][j]=int(input())\n",
    "    print('enter the elements of second matrix!\\n')\n",
    "    for i in range(row2):\n",
    "        for j in range(column2):\n",
    "            second[i][j]=int(input())\n",
    "    for i in range(row1):\n",
    "        for j in range(column2):\n",
    "            final[i][j]=0\n",
    "            for k in range(row2):\n",
    "                final[i][j]=final[i][j]+first[i][k]*second[k][j]\n",
    "    print(final)"
   ]
  },
  {
   "cell_type": "code",
   "execution_count": 24,
   "metadata": {},
   "outputs": [
    {
     "name": "stdout",
     "output_type": "stream",
     "text": [
      "enter the number of rows of first array!\n",
      "4\n",
      "enter the number of columns of first array!\n",
      "1\n",
      "enter the number of rows of second array!\n",
      "1\n",
      "enter the number of columns of second array\n",
      "4\n",
      "enter the elements of first matrix!\n",
      "\n",
      "2\n",
      "2\n",
      "2\n",
      "2\n",
      "enter the elements of second matrix!\n",
      "\n",
      "2\n",
      "2\n",
      "2\n",
      "2\n",
      "[[4, 4, 4, 4], [4, 4, 4, 4], [4, 4, 4, 4], [4, 4, 4, 4]]\n"
     ]
    }
   ],
   "source": [
    "matMul()"
   ]
  },
  {
   "cell_type": "markdown",
   "metadata": {},
   "source": [
    "## Decimal to Binary"
   ]
  },
  {
   "cell_type": "code",
   "execution_count": 12,
   "metadata": {},
   "outputs": [],
   "source": [
    "def decToBin():\n",
    "    number=int(input('please enter the number:\\n'))\n",
    "    binaryNumber=bin(number)\n",
    "    print(binaryNumber)"
   ]
  },
  {
   "cell_type": "code",
   "execution_count": 13,
   "metadata": {},
   "outputs": [
    {
     "name": "stdout",
     "output_type": "stream",
     "text": [
      "please enter the number:\n",
      "34\n",
      "0b100010\n"
     ]
    }
   ],
   "source": [
    "decToBin()"
   ]
  },
  {
   "cell_type": "markdown",
   "metadata": {},
   "source": [
    "## Alphabet Triangle"
   ]
  },
  {
   "cell_type": "code",
   "execution_count": 38,
   "metadata": {},
   "outputs": [],
   "source": [
    "def alpTri():\n",
    "    ch=65\n",
    "    for i in range(5):\n",
    "        for j in range(5,i-1,-1):\n",
    "            print(' ',end='')\n",
    "        for k in range(i+1):\n",
    "            print(chr(ch),end='')\n",
    "            ch=ch+1\n",
    "        ch=ch-1\n",
    "        for m in range(i):\n",
    "            print(chr(ch-1),end='')\n",
    "            ch=ch-1\n",
    "        print('\\n',end='')\n",
    "        ch=65"
   ]
  },
  {
   "cell_type": "code",
   "execution_count": 39,
   "metadata": {},
   "outputs": [
    {
     "name": "stdout",
     "output_type": "stream",
     "text": [
      "      A\n",
      "     ABA\n",
      "    ABCBA\n",
      "   ABCDCBA\n",
      "  ABCDEDCBA\n"
     ]
    }
   ],
   "source": [
    "alpTri()"
   ]
  },
  {
   "cell_type": "markdown",
   "metadata": {},
   "source": [
    "## Number Triangle"
   ]
  },
  {
   "cell_type": "code",
   "execution_count": 52,
   "metadata": {},
   "outputs": [],
   "source": [
    "def numTri():\n",
    "    num=1\n",
    "    for i in range(5):\n",
    "        for j in range(5,i-1,-1):\n",
    "            print(' ',end=' ')\n",
    "        for k in range(i+1):\n",
    "            print(num,end=' ')\n",
    "            num=num+1\n",
    "        num=num-1\n",
    "        for m in range(i):\n",
    "            print(num-1,end=' ')\n",
    "            num=num-1\n",
    "        print('\\n',end='')\n",
    "        num=1"
   ]
  },
  {
   "cell_type": "code",
   "execution_count": 53,
   "metadata": {},
   "outputs": [
    {
     "name": "stdout",
     "output_type": "stream",
     "text": [
      "            1 \n",
      "          1 2 1 \n",
      "        1 2 3 2 1 \n",
      "      1 2 3 4 3 2 1 \n",
      "    1 2 3 4 5 4 3 2 1 \n"
     ]
    }
   ],
   "source": [
    "numTri()"
   ]
  },
  {
   "cell_type": "markdown",
   "metadata": {},
   "source": [
    "## Fibonacci Triangle"
   ]
  },
  {
   "cell_type": "code",
   "execution_count": 8,
   "metadata": {},
   "outputs": [],
   "source": [
    "def fibTri():\n",
    "    a=0\n",
    "    b=1\n",
    "    fib=str(a)+' '+str(b)\n",
    "    for i in range(10):\n",
    "        c=a+b\n",
    "        a=b\n",
    "        b=c\n",
    "        fib=fib+' '+str(c)\n",
    "        print(fib)"
   ]
  },
  {
   "cell_type": "code",
   "execution_count": 9,
   "metadata": {},
   "outputs": [
    {
     "name": "stdout",
     "output_type": "stream",
     "text": [
      "0 1 1\n",
      "0 1 1 2\n",
      "0 1 1 2 3\n",
      "0 1 1 2 3 5\n",
      "0 1 1 2 3 5 8\n",
      "0 1 1 2 3 5 8 13\n",
      "0 1 1 2 3 5 8 13 21\n",
      "0 1 1 2 3 5 8 13 21 34\n",
      "0 1 1 2 3 5 8 13 21 34 55\n",
      "0 1 1 2 3 5 8 13 21 34 55 89\n"
     ]
    }
   ],
   "source": [
    "fibTri()"
   ]
  },
  {
   "cell_type": "markdown",
   "metadata": {},
   "source": [
    "## Number to character"
   ]
  },
  {
   "cell_type": "code",
   "execution_count": 1,
   "metadata": {},
   "outputs": [],
   "source": [
    "def numToChar():\n",
    "    num=int(input('please enter the number!\\n'))\n",
    "    print(chr(num))"
   ]
  },
  {
   "cell_type": "code",
   "execution_count": 3,
   "metadata": {},
   "outputs": [
    {
     "name": "stdout",
     "output_type": "stream",
     "text": [
      "please enter the number!\n",
      "65\n",
      "A\n"
     ]
    }
   ],
   "source": [
    "numToChar()"
   ]
  }
 ],
 "metadata": {
  "kernelspec": {
   "display_name": "Python 3",
   "language": "python",
   "name": "python3"
  },
  "language_info": {
   "codemirror_mode": {
    "name": "ipython",
    "version": 3
   },
   "file_extension": ".py",
   "mimetype": "text/x-python",
   "name": "python",
   "nbconvert_exporter": "python",
   "pygments_lexer": "ipython3",
   "version": "3.7.3"
  }
 },
 "nbformat": 4,
 "nbformat_minor": 2
}
